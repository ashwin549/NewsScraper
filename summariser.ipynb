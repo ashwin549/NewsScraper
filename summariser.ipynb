{
 "cells": [
  {
   "cell_type": "markdown",
   "metadata": {},
   "source": [
    "# Summarizer\n",
    "\n",
    "Trial code to see if summarization on my end is possible and feasible"
   ]
  },
  {
   "cell_type": "markdown",
   "metadata": {},
   "source": [
    "# Credits\n",
    "\n",
    "https://github.com/colombomf/text-summarizer"
   ]
  },
  {
   "cell_type": "code",
   "execution_count": null,
   "metadata": {},
   "outputs": [],
   "source": [
    "import nltk \n",
    "nltk.download('stopwords') \n",
    "nltk.download('punkt')\n",
    "nltk.download('punkt_tab')"
   ]
  },
  {
   "cell_type": "code",
   "execution_count": 23,
   "metadata": {},
   "outputs": [],
   "source": [
    "import random\n",
    "from nltk.corpus import stopwords\n",
    "from nltk.tokenize import word_tokenize, sent_tokenize\n",
    "from nltk.probability import FreqDist\n",
    "\n",
    "def text_summarizer(text, num_sentences=3):\n",
    "    # Text into sentences\n",
    "    sentences = sent_tokenize(text)\n",
    "\n",
    "    # Text into words\n",
    "    words = word_tokenize(text.lower())\n",
    "\n",
    "    # Removing stop words\n",
    "    stop_words = set(stopwords.words(\"english\"))\n",
    "    filtered_words = [word for word in words if word.casefold() not in stop_words]\n",
    "\n",
    "    # Calculate word frequencies\n",
    "    fdist = FreqDist(filtered_words)\n",
    "\n",
    "    # Assign scores to sentences based on word frequencies\n",
    "    sentence_scores = [sum(fdist[word] for word in word_tokenize(sentence.lower()) if word in fdist)\n",
    "                       for sentence in sentences]\n",
    "\n",
    "    # Create a list of tuples containing sentence index and score\n",
    "    sentence_scores = list(enumerate(sentence_scores))\n",
    "\n",
    "    # Sort sentences by scores in descending order\n",
    "    sorted_sentences = sorted(sentence_scores, key=lambda x: x[1], reverse=True)\n",
    "\n",
    "    # Randomly select the top `num_sentences` sentences for the summary\n",
    "    random_sentences = random.sample(sorted_sentences, num_sentences)\n",
    "\n",
    "    # Sort the randomly selected sentences based on their original order in the text\n",
    "    summary_sentences = sorted(random_sentences, key=lambda x: x[0])\n",
    "\n",
    "    # Create the summary\n",
    "    summary = ' '.join([sentences[i] for i, _ in summary_sentences])\n",
    "\n",
    "    return summary"
   ]
  },
  {
   "cell_type": "code",
   "execution_count": 22,
   "metadata": {},
   "outputs": [],
   "source": [
    "\n",
    "\n",
    "article_text = \"\"\"\n",
    "A Washington Post editorial appeared earlier this week headlined “Trump’s efforts to intimidate the legal profession cannot stand.”\\n\\n\n",
    "Within 48 hours later, those efforts were not merely standing. They had worked — at least in one case.\\n\\nThe major law firm of Paul, Weiss, \n",
    "Rifkind, Wharton & Garrison (called Paul, Weiss), targeted by President Trump in an executive order, opted to mollify rather than confront the president. \n",
    "In short, it backed down.\\n\\nDemocrats, as well as many lawyers, are grappling with the implications.\\n\\nPaul, Weiss agreed to provide $40 million in pro \n",
    "bono work on causes backed by the administration and to hire an outside expert to audit its hiring and employment practices.\\n\\nAfter the firm had made those \n",
    "concessions, and some others, Trump agreed to lift an executive order that would have taken away security clearances from the law firm’s staff.\\n\\n\n",
    "On social media, critics accuse the law firm of giving in to a “shakedown” or “extortion” by Trump.\\n\\nThe firm’s chair, Brad Karp, defended the deal he \n",
    "struck in an email to all employees, according to The New York Times.\\n\\nKarp reportedly argued he had merely “reaffirmed” the firm’s principles. Others \n",
    "have noted that the $40 million pro bono commitment amounts to only about one-fifth of the pro-bono work the massive firm typically does each year.\\n\\n\n",
    "That being said, the appearance of appearing to bend the knee to Trump with such alacrity has caused widespread alarm in legal circles.\\n\\n\n",
    "Prominent attorney Mark Zaid told this column that a “horrible message” was being sent both to the legal profession and to the public at large by Paul, \n",
    "Weiss’s “decision to simply capitulate in fear rather than stand up for the rule of law and the ethical principles that guide lawyers.”\\n\\n\n",
    "Zaid, who is best known for defending whistleblowers of all political persuasions, had his own security clearance revoked by Trump recently. But he remains unbowed.\n",
    "\\n\\n“There are many of us,” he said, “who will not be bullied or intimidated, notwithstanding the continuing attacks on lawyers.”\\n\\n\n",
    "In addition to the Paul, Weiss firm, other law firms have been targeted by Trump.\\n\\nThe most prominent in the firing line was Perkins Coie, \n",
    "the firm that represented the presidential campaign of 2016 Democratic nominee Hillary Clinton.\\n\\nIn that capacity, it contracted another organization \n",
    "called Fusion GPS to do opposition research on Trump. Fusion GPS in turn sought the assistance of retired British spy Christopher Steele, who produced \n",
    "the now-infamous “Steele dossier.”\\n\\nThis history appears to have drawn the lasting enmity of Trump.\\n\\nBut Perkins Coie — unlike Paul, Weiss — \n",
    "has chosen to fight. It won an interim victory when U.S. District Judge Beryl Howell earlier this month froze parts of Trump’s executive order against the \n",
    "firm pending further hearings.\\n\\nOn Friday, Trump’s Department of Justice tried to get Howell thrown off the case, alleging that she had shown “partiality” \n",
    "against Trump.\\n\\nA third legal firm, Covington & Burling, was also the subject of a Trump targeting. It has so far navigated a lower profile, \n",
    "middle ground in which it is neither challenging the president so publicly as Perkins Coie, nor accommodating him like Paul, Weiss.\\n\\n\n",
    "For all three legal firms — and for others eyeing these developments with alarm — there is a near-certainty that they would lose significant numbers of \n",
    "clients if they lose their security clearances. In the case of Perkins Coie, the Trump administration has signaled it will not do federal business with \n",
    "the firm’s clients — a massive pressure point that could call the firm’s existence into question.\\n\\nBut Democrats and other Trump critics worry about a \n",
    "broader attempt to squelch dissent.\\n\\nPart of that, to be sure, is concentrated in the legal sphere.\\n\\nTrump has called for the impeachment of the judge \n",
    "who ruled against him when his administration used the Alien Enemies Act of 1798 to deport Venezuelan migrants last weekend. Elon Musk referred to a separate \n",
    "adverse ruling — this one blocking a ban on openly transgender people serving in the military — as a “judicial coup.”\\n\\n\n",
    "Trump’s detractors also contend he is targeting the media. They cite the banishment of The Associated Press from the White House press pool for some events \n",
    "over a dispute about language and Trump’s suing of Paramount, the parent company of CBS News, over its editing of an interview with then-Vice President \n",
    "Kamala Harris last fall.\\n\\nDemocrats also fear an effort to use fringe actions, like violent attacks on Tesla vehicles and showrooms, as a pretext to go \n",
    "after organizations that help the party and liberal causes. Vice President Vance has suggested that the Tesla attacks are being funded by “very wealthy \n",
    "left-wing people” while online fundraising platform ActBlue has recently been targeted by Musk.\\n\\n“I think it’s shocking. But I also think it is something \n",
    "that the Democratic Party has to recognize,” veteran Democratic strategist Tad Devine said. “We are under assault.”\\n\\n\n",
    "Devine also contended that Democrats had to unite on a message.\\n\\nHe contended the message should be that Trump acts “not to take care of the people of \n",
    "this country but to take care of himself and his wealthy friends.”\\n\\nDemocrats, of course, have not yet united on any message.\\n\\n\n",
    "And whether they can find one that would stop the Trump juggernaut from rolling is another question entirely.\\n\\n\n",
    "The Memo is a reported column by Niall Stanage.\n",
    "\"\"\"\n"
   ]
  },
  {
   "cell_type": "code",
   "execution_count": 27,
   "metadata": {},
   "outputs": [
    {
     "name": "stdout",
     "output_type": "stream",
     "text": [
      "\n",
      "A Washington Post editorial appeared earlier this week headlined “Trump’s efforts to intimidate the legal profession cannot stand.”\n",
      "\n",
      "\n",
      "Within 48 hours later, those efforts were not merely standing. In short, it backed down. After the firm had made those \n",
      "concessions, and some others, Trump agreed to lift an executive order that would have taken away security clearances from the law firm’s staff. That being said, the appearance of appearing to bend the knee to Trump with such alacrity has caused widespread alarm in legal circles. But he remains unbowed. It has so far navigated a lower profile, \n",
      "middle ground in which it is neither challenging the president so publicly as Perkins Coie, nor accommodating him like Paul, Weiss. For all three legal firms — and for others eyeing these developments with alarm — there is a near-certainty that they would lose significant numbers of \n",
      "clients if they lose their security clearances. In the case of Perkins Coie, the Trump administration has signaled it will not do federal business with \n",
      "the firm’s clients — a massive pressure point that could call the firm’s existence into question. They cite the banishment of The Associated Press from the White House press pool for some events \n",
      "over a dispute about language and Trump’s suing of Paramount, the parent company of CBS News, over its editing of an interview with then-Vice President \n",
      "Kamala Harris last fall. Democrats also fear an effort to use fringe actions, like violent attacks on Tesla vehicles and showrooms, as a pretext to go \n",
      "after organizations that help the party and liberal causes.\n"
     ]
    }
   ],
   "source": [
    "\n",
    "summary = text_summarizer(article_text,num_sentences=10)\n",
    "print(summary)"
   ]
  }
 ],
 "metadata": {
  "kernelspec": {
   "display_name": ".venv",
   "language": "python",
   "name": "python3"
  },
  "language_info": {
   "codemirror_mode": {
    "name": "ipython",
    "version": 3
   },
   "file_extension": ".py",
   "mimetype": "text/x-python",
   "name": "python",
   "nbconvert_exporter": "python",
   "pygments_lexer": "ipython3",
   "version": "3.11.9"
  }
 },
 "nbformat": 4,
 "nbformat_minor": 2
}
