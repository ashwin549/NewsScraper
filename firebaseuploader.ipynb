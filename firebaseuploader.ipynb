{
 "cells": [
  {
   "cell_type": "code",
   "execution_count": 1,
   "metadata": {},
   "outputs": [],
   "source": [
    "import firebase_admin\n",
    "from firebase_admin import credentials, firestore\n"
   ]
  },
  {
   "cell_type": "code",
   "execution_count": null,
   "metadata": {},
   "outputs": [],
   "source": [
    "import firebase_admin\n",
    "from firebase_admin import credentials, firestore\n",
    "\n",
    "# Initialize Firebase\n",
    "cred = credentials.Certificate(r\"C:\\Users\\Ashwin\\Desktop\\MAD_LAB_PROJECT\\NewsScraper\\truthlens-68bed-firebase-adminsdk-fbsvc-4c3626b3ec.json\")  # Replace with your JSON file path\n",
    "firebase_admin.initialize_app(cred)"
   ]
  },
  {
   "cell_type": "code",
   "execution_count": 5,
   "metadata": {},
   "outputs": [
    {
     "name": "stdout",
     "output_type": "stream",
     "text": [
      "Article uploaded with document ID: Gtfy4Rr0OoQd1wwSVVq9\n"
     ]
    }
   ],
   "source": [
    "\n",
    "\n",
    "# Get Firestore database\n",
    "db = firestore.client()\n",
    "\n",
    "def upload_article(title, article, confidence, image, source, tags):\n",
    "    \"\"\"\n",
    "    Uploads an article to the Firestore collection 'articles'.\n",
    "    \n",
    "    Args:\n",
    "        title (str): Title of the article.\n",
    "        article (str): Full text of the article.\n",
    "        confidence (float): Confidence score of the article.\n",
    "        image (str): URL of the article image.\n",
    "        source (str): Source URL of the article.\n",
    "        tags (list): List of tags related to the article.\n",
    "\n",
    "    Returns:\n",
    "        str: Document ID of the uploaded article.\n",
    "    \"\"\"\n",
    "    data = {\n",
    "        \"title\": title,\n",
    "        \"article\": article,\n",
    "        \"confidence\": confidence,\n",
    "        \"image\": image,\n",
    "        \"source\": source,\n",
    "        \"tags\": tags\n",
    "    }\n",
    "    \n",
    "    doc_ref = db.collection(\"news\").add(data)\n",
    "    return doc_ref[1].id  # Returns the auto-generated document ID\n",
    "\n",
    "# Example Usage\n",
    "doc_id = upload_article(\n",
    "    title=\"The Memo: Democrats, lawyers left reeling from Paul, Weiss firm’s Trump deal\",\n",
    "    article=\"The Washington Post editorial criticized Trump’s efforts to intimidate the legal profession, but within days, one major law firm, Paul, Weiss, conceded to his pressure. Targeted by an executive order, the firm agreed to provide $40 million in pro bono work and undergo an audit in exchange for retaining its security clearances. Critics view this as a capitulation, while the firm’s chair defended the move as reaffirming its principles.Other law firms, like Perkins Coie and Covington & Burling, have also faced Trump’s scrutiny. Perkins Coie has chosen to fight, winning a temporary court victory, while Covington & Burling has taken a more cautious approach. Losing security clearances poses a major risk to these firms, potentially costing them clients.Beyond law firms, Trump’s critics see a broader effort to stifle dissent, targeting the judiciary, media, and Democratic-aligned organizations. Some Democrats warn that their party is 'under assault' and must unify against Trump’s actions, though they have yet to find a cohesive strategy to counter him.\",\n",
    "    confidence=97.6,\n",
    "    image=\"https://thehill.com/wp-content/uploads/sites/2/2025/03/Memo_032425_Illo_CJGNAdobe.png?w=1280\",\n",
    "    source=\"https://thehill.com/homenews/administration/5208538-trump-intimidates-law-firms/\",\n",
    "    tags=[\"Politics\", \"USA\", \"Business\",\"Law\"]\n",
    ")\n",
    "\n",
    "print(f\"Article uploaded with document ID: {doc_id}\")\n"
   ]
  }
 ],
 "metadata": {
  "kernelspec": {
   "display_name": "Python 3",
   "language": "python",
   "name": "python3"
  },
  "language_info": {
   "codemirror_mode": {
    "name": "ipython",
    "version": 3
   },
   "file_extension": ".py",
   "mimetype": "text/x-python",
   "name": "python",
   "nbconvert_exporter": "python",
   "pygments_lexer": "ipython3",
   "version": "3.11.9"
  }
 },
 "nbformat": 4,
 "nbformat_minor": 2
}
